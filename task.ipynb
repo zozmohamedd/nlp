{
  "metadata": {
    "kernelspec": {
      "language": "python",
      "display_name": "Python 3",
      "name": "python3"
    },
    "language_info": {
      "name": "python",
      "version": "3.7.9",
      "mimetype": "text/x-python",
      "codemirror_mode": {
        "name": "ipython",
        "version": 3
      },
      "pygments_lexer": "ipython3",
      "nbconvert_exporter": "python",
      "file_extension": ".py"
    },
    "kaggle": {
      "accelerator": "gpu",
      "dataSources": [
        {
          "sourceId": 4140,
          "sourceType": "datasetVersion",
          "datasetId": 2477
        }
      ],
      "dockerImageVersionId": 30086,
      "isInternetEnabled": true,
      "language": "python",
      "sourceType": "notebook",
      "isGpuEnabled": true
    },
    "colab": {
      "provenance": []
    }
  },
  "nbformat_minor": 0,
  "nbformat": 4,
  "cells": [
    {
      "cell_type": "markdown",
      "source": [
        "# Sentiment Analysis Using RNN"
      ],
      "metadata": {
        "id": "6uSqd76rNdnK"
      }
    },
    {
      "cell_type": "markdown",
      "source": [
        "# Importing libraries <a id=\"1\"></a>"
      ],
      "metadata": {
        "id": "NCfN_akmFrj3"
      }
    },
    {
      "cell_type": "code",
      "source": [
        "# DataFrame\n",
        "import pandas as pd\n",
        "\n",
        "# plotting\n",
        "import seaborn as sns\n",
        "from wordcloud import WordCloud\n",
        "import matplotlib.pyplot as plt\n",
        "\n",
        "# nltk\n",
        "import nltk\n",
        "from nltk.stem import WordNetLemmatizer\n",
        "from nltk.corpus import stopwords\n",
        "from nltk.tokenize import word_tokenize\n",
        "\n",
        "# sklearn\n",
        "from sklearn.model_selection import train_test_split\n",
        "from sklearn.feature_extraction.text import TfidfVectorizer\n",
        "from sklearn.metrics import confusion_matrix, classification_report\n",
        "\n",
        "from sklearn.linear_model import LogisticRegression\n",
        "from sklearn.svm import LinearSVC\n",
        "from sklearn.ensemble import RandomForestClassifier\n",
        "from sklearn.naive_bayes import BernoulliNB\n",
        "\n",
        "\n",
        "#tensorflow\n",
        "import tensorflow.compat.v2 as tf\n",
        "import tensorflow_datasets as tfds\n",
        "\n",
        "# Utility\n",
        "import pandas as pd\n",
        "import numpy as np\n",
        "import warnings\n",
        "warnings.filterwarnings('ignore')\n",
        "import re\n",
        "import string\n",
        "import pickle"
      ],
      "metadata": {
        "id": "pVYNu9wMdkko",
        "trusted": true,
        "execution": {
          "iopub.status.busy": "2025-03-22T17:40:49.035964Z",
          "iopub.execute_input": "2025-03-22T17:40:49.036297Z",
          "iopub.status.idle": "2025-03-22T17:40:55.993572Z",
          "shell.execute_reply.started": "2025-03-22T17:40:49.036268Z",
          "shell.execute_reply": "2025-03-22T17:40:55.992897Z"
        }
      },
      "outputs": [],
      "execution_count": null
    },
    {
      "cell_type": "markdown",
      "source": [
        "# Loading Dataset <a id=\"2\"></a>"
      ],
      "metadata": {
        "id": "R7jmsaF2dkkq"
      }
    },
    {
      "cell_type": "code",
      "source": [
        "# Construct a tf.data.Dataset\n",
        "data = pd.read_csv('/kaggle/input/sentiment140/training.1600000.processed.noemoticon.csv',encoding='latin', names = ['polarity','id','date','query','user','text'])"
      ],
      "metadata": {
        "id": "hycEYqiDlC8p",
        "trusted": true,
        "execution": {
          "iopub.status.busy": "2025-03-22T17:40:55.995508Z",
          "iopub.execute_input": "2025-03-22T17:40:55.995854Z",
          "iopub.status.idle": "2025-03-22T17:41:01.452053Z",
          "shell.execute_reply.started": "2025-03-22T17:40:55.995817Z",
          "shell.execute_reply": "2025-03-22T17:41:01.451362Z"
        }
      },
      "outputs": [],
      "execution_count": null
    },
    {
      "cell_type": "code",
      "source": [
        "data = data.sample(frac=1)\n",
        "data = data[:200000]"
      ],
      "metadata": {
        "id": "Uu3dZ9eeBZOU",
        "trusted": true,
        "execution": {
          "iopub.status.busy": "2025-03-22T17:41:02.832227Z",
          "iopub.execute_input": "2025-03-22T17:41:02.832511Z",
          "iopub.status.idle": "2025-03-22T17:41:03.994756Z",
          "shell.execute_reply.started": "2025-03-22T17:41:02.832488Z",
          "shell.execute_reply": "2025-03-22T17:41:03.994082Z"
        }
      },
      "outputs": [],
      "execution_count": null
    },
    {
      "cell_type": "markdown",
      "source": [
        "# Data Visualization <a id=\"3\"></a>"
      ],
      "metadata": {
        "id": "8NMuY7JBwmmy"
      }
    },
    {
      "cell_type": "code",
      "source": [
        "print(\"Dataset shape:\", data.shape)"
      ],
      "metadata": {
        "id": "f1lt303exS3J",
        "outputId": "d98c81bc-29ee-46e6-e028-e1692af6176f",
        "trusted": true,
        "execution": {
          "iopub.status.busy": "2025-03-22T17:41:06.951423Z",
          "iopub.execute_input": "2025-03-22T17:41:06.951714Z",
          "iopub.status.idle": "2025-03-22T17:41:06.956206Z",
          "shell.execute_reply.started": "2025-03-22T17:41:06.951689Z",
          "shell.execute_reply": "2025-03-22T17:41:06.955458Z"
        }
      },
      "outputs": [
        {
          "name": "stdout",
          "text": "Dataset shape: (200000, 6)\n",
          "output_type": "stream"
        }
      ],
      "execution_count": null
    },
    {
      "cell_type": "code",
      "source": [
        "data.head(10)"
      ],
      "metadata": {
        "id": "MKn0VS_kdkkr",
        "outputId": "7e4e692e-af3f-4605-9a0b-3e62bc7028ce",
        "trusted": true,
        "execution": {
          "iopub.status.busy": "2025-03-22T17:41:08.783894Z",
          "iopub.execute_input": "2025-03-22T17:41:08.784226Z",
          "iopub.status.idle": "2025-03-22T17:41:08.802447Z",
          "shell.execute_reply.started": "2025-03-22T17:41:08.784196Z",
          "shell.execute_reply": "2025-03-22T17:41:08.801704Z"
        }
      },
      "outputs": [
        {
          "execution_count": 14,
          "output_type": "execute_result",
          "data": {
            "text/plain": "         polarity          id                          date     query  \\\n552255          0  2203356712  Tue Jun 16 23:33:37 PDT 2009  NO_QUERY   \n712771          0  2258634202  Sat Jun 20 16:14:44 PDT 2009  NO_QUERY   \n1259118         4  1998047766  Mon Jun 01 17:54:17 PDT 2009  NO_QUERY   \n630727          0  2232086088  Thu Jun 18 19:25:57 PDT 2009  NO_QUERY   \n910289          4  1751537869  Sat May 09 19:41:00 PDT 2009  NO_QUERY   \n225606          0  1977673346  Sat May 30 21:27:25 PDT 2009  NO_QUERY   \n1299533         4  2006148310  Tue Jun 02 10:43:51 PDT 2009  NO_QUERY   \n143303          0  1881690748  Fri May 22 05:19:32 PDT 2009  NO_QUERY   \n755258          0  2288266978  Mon Jun 22 18:56:21 PDT 2009  NO_QUERY   \n883020          4  1686060197  Sun May 03 03:32:46 PDT 2009  NO_QUERY   \n\n                    user                                               text  \n552255      MandySydelle  someone named &quot;horny hottie&quot; is foll...  \n712771     lyshaxmichele  Is feeling better than before after this nice ...  \n1259118        PhannieTV                       See ya twitter! PEACE OUT!!   \n630727   Pamluvsthebeach  Doesn't it suck to realize that you are marrie...  \n910289        jillhanner  my mom watched my new video and she actually L...  \n225606   tattooedchick13  @Popcorn78 haha you should be lol it was fun B...  \n1299533      clarioncall  @ButifulDeath Click this and feel it.  http://...  \n143303    AnnieVigilante  this wicked friendly marine with a sad story j...  \n755258        skeeterbop  @bls16  Deal support wants you to totally rebu...  \n883020      peterrowlett  @NoelAnn Hi Noel-Ann, If you use someone's use...  ",
            "text/html": "<div>\n<style scoped>\n    .dataframe tbody tr th:only-of-type {\n        vertical-align: middle;\n    }\n\n    .dataframe tbody tr th {\n        vertical-align: top;\n    }\n\n    .dataframe thead th {\n        text-align: right;\n    }\n</style>\n<table border=\"1\" class=\"dataframe\">\n  <thead>\n    <tr style=\"text-align: right;\">\n      <th></th>\n      <th>polarity</th>\n      <th>id</th>\n      <th>date</th>\n      <th>query</th>\n      <th>user</th>\n      <th>text</th>\n    </tr>\n  </thead>\n  <tbody>\n    <tr>\n      <th>552255</th>\n      <td>0</td>\n      <td>2203356712</td>\n      <td>Tue Jun 16 23:33:37 PDT 2009</td>\n      <td>NO_QUERY</td>\n      <td>MandySydelle</td>\n      <td>someone named &amp;quot;horny hottie&amp;quot; is foll...</td>\n    </tr>\n    <tr>\n      <th>712771</th>\n      <td>0</td>\n      <td>2258634202</td>\n      <td>Sat Jun 20 16:14:44 PDT 2009</td>\n      <td>NO_QUERY</td>\n      <td>lyshaxmichele</td>\n      <td>Is feeling better than before after this nice ...</td>\n    </tr>\n    <tr>\n      <th>1259118</th>\n      <td>4</td>\n      <td>1998047766</td>\n      <td>Mon Jun 01 17:54:17 PDT 2009</td>\n      <td>NO_QUERY</td>\n      <td>PhannieTV</td>\n      <td>See ya twitter! PEACE OUT!!</td>\n    </tr>\n    <tr>\n      <th>630727</th>\n      <td>0</td>\n      <td>2232086088</td>\n      <td>Thu Jun 18 19:25:57 PDT 2009</td>\n      <td>NO_QUERY</td>\n      <td>Pamluvsthebeach</td>\n      <td>Doesn't it suck to realize that you are marrie...</td>\n    </tr>\n    <tr>\n      <th>910289</th>\n      <td>4</td>\n      <td>1751537869</td>\n      <td>Sat May 09 19:41:00 PDT 2009</td>\n      <td>NO_QUERY</td>\n      <td>jillhanner</td>\n      <td>my mom watched my new video and she actually L...</td>\n    </tr>\n    <tr>\n      <th>225606</th>\n      <td>0</td>\n      <td>1977673346</td>\n      <td>Sat May 30 21:27:25 PDT 2009</td>\n      <td>NO_QUERY</td>\n      <td>tattooedchick13</td>\n      <td>@Popcorn78 haha you should be lol it was fun B...</td>\n    </tr>\n    <tr>\n      <th>1299533</th>\n      <td>4</td>\n      <td>2006148310</td>\n      <td>Tue Jun 02 10:43:51 PDT 2009</td>\n      <td>NO_QUERY</td>\n      <td>clarioncall</td>\n      <td>@ButifulDeath Click this and feel it.  http://...</td>\n    </tr>\n    <tr>\n      <th>143303</th>\n      <td>0</td>\n      <td>1881690748</td>\n      <td>Fri May 22 05:19:32 PDT 2009</td>\n      <td>NO_QUERY</td>\n      <td>AnnieVigilante</td>\n      <td>this wicked friendly marine with a sad story j...</td>\n    </tr>\n    <tr>\n      <th>755258</th>\n      <td>0</td>\n      <td>2288266978</td>\n      <td>Mon Jun 22 18:56:21 PDT 2009</td>\n      <td>NO_QUERY</td>\n      <td>skeeterbop</td>\n      <td>@bls16  Deal support wants you to totally rebu...</td>\n    </tr>\n    <tr>\n      <th>883020</th>\n      <td>4</td>\n      <td>1686060197</td>\n      <td>Sun May 03 03:32:46 PDT 2009</td>\n      <td>NO_QUERY</td>\n      <td>peterrowlett</td>\n      <td>@NoelAnn Hi Noel-Ann, If you use someone's use...</td>\n    </tr>\n  </tbody>\n</table>\n</div>"
          },
          "metadata": {}
        }
      ],
      "execution_count": null
    },
    {
      "cell_type": "code",
      "source": [
        "data['polarity'].unique()"
      ],
      "metadata": {
        "id": "CEGPNsXRdkks",
        "outputId": "d7a07409-b827-4c03-ee78-a87a2a2b03cf",
        "trusted": true,
        "execution": {
          "iopub.status.busy": "2025-03-22T17:41:14.388652Z",
          "iopub.execute_input": "2025-03-22T17:41:14.388936Z",
          "iopub.status.idle": "2025-03-22T17:41:14.396847Z",
          "shell.execute_reply.started": "2025-03-22T17:41:14.388910Z",
          "shell.execute_reply": "2025-03-22T17:41:14.396139Z"
        }
      },
      "outputs": [
        {
          "execution_count": 15,
          "output_type": "execute_result",
          "data": {
            "text/plain": "array([0, 4])"
          },
          "metadata": {}
        }
      ],
      "execution_count": null
    },
    {
      "cell_type": "code",
      "source": [
        "# Replacing the value 4 -->1 for ease of understanding.\n",
        "data['polarity'] = data['polarity'].replace(4,1)\n",
        "data.head()"
      ],
      "metadata": {
        "id": "Tl4afas1W20w",
        "outputId": "8e3d79af-1590-4c87-e2c1-aadc45e651e4",
        "trusted": true,
        "execution": {
          "iopub.status.busy": "2025-03-22T17:41:14.714452Z",
          "iopub.execute_input": "2025-03-22T17:41:14.714846Z",
          "iopub.status.idle": "2025-03-22T17:41:14.728532Z",
          "shell.execute_reply.started": "2025-03-22T17:41:14.714804Z",
          "shell.execute_reply": "2025-03-22T17:41:14.727830Z"
        }
      },
      "outputs": [
        {
          "execution_count": 16,
          "output_type": "execute_result",
          "data": {
            "text/plain": "         polarity          id                          date     query  \\\n552255          0  2203356712  Tue Jun 16 23:33:37 PDT 2009  NO_QUERY   \n712771          0  2258634202  Sat Jun 20 16:14:44 PDT 2009  NO_QUERY   \n1259118         1  1998047766  Mon Jun 01 17:54:17 PDT 2009  NO_QUERY   \n630727          0  2232086088  Thu Jun 18 19:25:57 PDT 2009  NO_QUERY   \n910289          1  1751537869  Sat May 09 19:41:00 PDT 2009  NO_QUERY   \n\n                    user                                               text  \n552255      MandySydelle  someone named &quot;horny hottie&quot; is foll...  \n712771     lyshaxmichele  Is feeling better than before after this nice ...  \n1259118        PhannieTV                       See ya twitter! PEACE OUT!!   \n630727   Pamluvsthebeach  Doesn't it suck to realize that you are marrie...  \n910289        jillhanner  my mom watched my new video and she actually L...  ",
            "text/html": "<div>\n<style scoped>\n    .dataframe tbody tr th:only-of-type {\n        vertical-align: middle;\n    }\n\n    .dataframe tbody tr th {\n        vertical-align: top;\n    }\n\n    .dataframe thead th {\n        text-align: right;\n    }\n</style>\n<table border=\"1\" class=\"dataframe\">\n  <thead>\n    <tr style=\"text-align: right;\">\n      <th></th>\n      <th>polarity</th>\n      <th>id</th>\n      <th>date</th>\n      <th>query</th>\n      <th>user</th>\n      <th>text</th>\n    </tr>\n  </thead>\n  <tbody>\n    <tr>\n      <th>552255</th>\n      <td>0</td>\n      <td>2203356712</td>\n      <td>Tue Jun 16 23:33:37 PDT 2009</td>\n      <td>NO_QUERY</td>\n      <td>MandySydelle</td>\n      <td>someone named &amp;quot;horny hottie&amp;quot; is foll...</td>\n    </tr>\n    <tr>\n      <th>712771</th>\n      <td>0</td>\n      <td>2258634202</td>\n      <td>Sat Jun 20 16:14:44 PDT 2009</td>\n      <td>NO_QUERY</td>\n      <td>lyshaxmichele</td>\n      <td>Is feeling better than before after this nice ...</td>\n    </tr>\n    <tr>\n      <th>1259118</th>\n      <td>1</td>\n      <td>1998047766</td>\n      <td>Mon Jun 01 17:54:17 PDT 2009</td>\n      <td>NO_QUERY</td>\n      <td>PhannieTV</td>\n      <td>See ya twitter! PEACE OUT!!</td>\n    </tr>\n    <tr>\n      <th>630727</th>\n      <td>0</td>\n      <td>2232086088</td>\n      <td>Thu Jun 18 19:25:57 PDT 2009</td>\n      <td>NO_QUERY</td>\n      <td>Pamluvsthebeach</td>\n      <td>Doesn't it suck to realize that you are marrie...</td>\n    </tr>\n    <tr>\n      <th>910289</th>\n      <td>1</td>\n      <td>1751537869</td>\n      <td>Sat May 09 19:41:00 PDT 2009</td>\n      <td>NO_QUERY</td>\n      <td>jillhanner</td>\n      <td>my mom watched my new video and she actually L...</td>\n    </tr>\n  </tbody>\n</table>\n</div>"
          },
          "metadata": {}
        }
      ],
      "execution_count": null
    },
    {
      "cell_type": "code",
      "source": [
        "data.describe()"
      ],
      "metadata": {
        "id": "evVpnAuDwo64",
        "outputId": "a74f56e3-e55b-4c18-e854-32cbba487025",
        "trusted": true,
        "execution": {
          "iopub.status.busy": "2025-03-22T17:41:33.052125Z",
          "iopub.execute_input": "2025-03-22T17:41:33.052453Z",
          "iopub.status.idle": "2025-03-22T17:41:33.078812Z",
          "shell.execute_reply.started": "2025-03-22T17:41:33.052424Z",
          "shell.execute_reply": "2025-03-22T17:41:33.078056Z"
        }
      },
      "outputs": [
        {
          "execution_count": 17,
          "output_type": "execute_result",
          "data": {
            "text/plain": "            polarity            id\ncount  200000.000000  2.000000e+05\nmean        0.499450  1.998790e+09\nstd         0.500001  1.934361e+08\nmin         0.000000  1.467814e+09\n25%         0.000000  1.956880e+09\n50%         0.000000  2.001987e+09\n75%         1.000000  2.177036e+09\nmax         1.000000  2.329205e+09",
            "text/html": "<div>\n<style scoped>\n    .dataframe tbody tr th:only-of-type {\n        vertical-align: middle;\n    }\n\n    .dataframe tbody tr th {\n        vertical-align: top;\n    }\n\n    .dataframe thead th {\n        text-align: right;\n    }\n</style>\n<table border=\"1\" class=\"dataframe\">\n  <thead>\n    <tr style=\"text-align: right;\">\n      <th></th>\n      <th>polarity</th>\n      <th>id</th>\n    </tr>\n  </thead>\n  <tbody>\n    <tr>\n      <th>count</th>\n      <td>200000.000000</td>\n      <td>2.000000e+05</td>\n    </tr>\n    <tr>\n      <th>mean</th>\n      <td>0.499450</td>\n      <td>1.998790e+09</td>\n    </tr>\n    <tr>\n      <th>std</th>\n      <td>0.500001</td>\n      <td>1.934361e+08</td>\n    </tr>\n    <tr>\n      <th>min</th>\n      <td>0.000000</td>\n      <td>1.467814e+09</td>\n    </tr>\n    <tr>\n      <th>25%</th>\n      <td>0.000000</td>\n      <td>1.956880e+09</td>\n    </tr>\n    <tr>\n      <th>50%</th>\n      <td>0.000000</td>\n      <td>2.001987e+09</td>\n    </tr>\n    <tr>\n      <th>75%</th>\n      <td>1.000000</td>\n      <td>2.177036e+09</td>\n    </tr>\n    <tr>\n      <th>max</th>\n      <td>1.000000</td>\n      <td>2.329205e+09</td>\n    </tr>\n  </tbody>\n</table>\n</div>"
          },
          "metadata": {}
        }
      ],
      "execution_count": null
    },
    {
      "cell_type": "code",
      "source": [
        "# check the number of positive vs. negative tagged sentences\n",
        "positives = data['polarity'][data.polarity == 1 ]\n",
        "negatives = data['polarity'][data.polarity == 0 ]\n",
        "\n",
        "print('Total length of the data is:         {}'.format(data.shape[0]))\n",
        "print('No. of positve tagged sentences is:  {}'.format(len(positives)))\n",
        "print('No. of negative tagged sentences is: {}'.format(len(negatives)))"
      ],
      "metadata": {
        "id": "iTN9l7p2w_N0",
        "outputId": "c03ca38a-2536-479a-9219-fcef71791510",
        "trusted": true,
        "execution": {
          "iopub.status.busy": "2025-03-22T17:41:33.598950Z",
          "iopub.execute_input": "2025-03-22T17:41:33.599307Z",
          "iopub.status.idle": "2025-03-22T17:41:33.623898Z",
          "shell.execute_reply.started": "2025-03-22T17:41:33.599276Z",
          "shell.execute_reply": "2025-03-22T17:41:33.623129Z"
        }
      },
      "outputs": [
        {
          "name": "stdout",
          "text": "Total length of the data is:         200000\nNo. of positve tagged sentences is:  99890\nNo. of negative tagged sentences is: 100110\n",
          "output_type": "stream"
        }
      ],
      "execution_count": null
    },
    {
      "cell_type": "code",
      "source": [
        "# get a word count per of text\n",
        "def word_count(words):\n",
        "    return len(words.split())"
      ],
      "metadata": {
        "id": "FZCZYZKn00Iv",
        "trusted": true,
        "execution": {
          "iopub.status.busy": "2025-03-22T17:41:36.725026Z",
          "iopub.execute_input": "2025-03-22T17:41:36.725340Z",
          "iopub.status.idle": "2025-03-22T17:41:36.729157Z",
          "shell.execute_reply.started": "2025-03-22T17:41:36.725315Z",
          "shell.execute_reply": "2025-03-22T17:41:36.728180Z"
        }
      },
      "outputs": [],
      "execution_count": null
    },
    {
      "cell_type": "code",
      "source": [
        "# plot word count distribution for both positive and negative\n",
        "\n",
        "data['word count'] = data['text'].apply(word_count)\n",
        "p = data['word count'][data.polarity == 1]\n",
        "n = data['word count'][data.polarity == 0]\n",
        "plt.figure(figsize=(12,6))\n",
        "plt.xlim(0,45)\n",
        "plt.xlabel('Word count')\n",
        "plt.ylabel('Frequency')\n",
        "g = plt.hist([p, n], color=['g','r'], alpha=0.5, label=['positive','negative'])\n",
        "plt.legend(loc='upper right')"
      ],
      "metadata": {
        "id": "G25IkW3303gw",
        "outputId": "42406a20-5812-4d51-8053-573c11b32014",
        "trusted": true,
        "execution": {
          "iopub.status.busy": "2025-03-22T17:41:39.587602Z",
          "iopub.execute_input": "2025-03-22T17:41:39.587901Z",
          "iopub.status.idle": "2025-03-22T17:41:40.074862Z",
          "shell.execute_reply.started": "2025-03-22T17:41:39.587875Z",
          "shell.execute_reply": "2025-03-22T17:41:40.073936Z"
        }
      },
      "outputs": [
        {
          "execution_count": 20,
          "output_type": "execute_result",
          "data": {
            "text/plain": "<matplotlib.legend.Legend at 0x7a05e3227bd0>"
          },
          "metadata": {}
        },
        {
          "output_type": "display_data",
          "data": {
            "text/plain": "<Figure size 864x432 with 1 Axes>",
            "image/png": "[encoded data removed]"
          },
          "metadata": {
            "needs_background": "light"
          }
        }
      ],
      "execution_count": null
    },
    {
      "cell_type": "code",
      "source": [
        "# get common words in training dataset\n",
        "from collections import Counter\n",
        "all_words = []\n",
        "for line in list(data['text']):\n",
        "    words = line.split()\n",
        "    for word in words:\n",
        "      if(len(word)>2):\n",
        "        all_words.append(word.lower())\n",
        "\n",
        "\n",
        "Counter(all_words).most_common(20)"
      ],
      "metadata": {
        "id": "AudC8DVW07Cf",
        "outputId": "65ebdbd3-ae34-4ebe-88b2-e96fa7c099fe",
        "trusted": true,
        "execution": {
          "iopub.status.busy": "2025-03-22T17:41:46.164656Z",
          "iopub.execute_input": "2025-03-22T17:41:46.164973Z",
          "iopub.status.idle": "2025-03-22T17:41:47.439650Z",
          "shell.execute_reply.started": "2025-03-22T17:41:46.164939Z",
          "shell.execute_reply": "2025-03-22T17:41:47.438806Z"
        }
      },
      "outputs": [
        {
          "execution_count": 21,
          "output_type": "execute_result",
          "data": {
            "text/plain": "[('the', 65286),\n ('and', 36828),\n ('you', 29761),\n ('for', 26644),\n ('have', 17928),\n ('that', 16153),\n (\"i'm\", 16098),\n ('but', 15753),\n ('just', 15385),\n ('with', 14211),\n ('was', 12892),\n ('not', 12707),\n ('this', 10885),\n ('get', 9982),\n ('good', 9656),\n ('are', 9557),\n ('like', 9529),\n ('all', 9190),\n ('out', 8754),\n ('your', 8117)]"
          },
          "metadata": {}
        }
      ],
      "execution_count": null
    },
    {
      "cell_type": "markdown",
      "source": [
        "# Data Processing <a id=\"4\"></a>"
      ],
      "metadata": {
        "id": "XXzTV672dkkr"
      }
    },
    {
      "cell_type": "code",
      "source": [
        "%matplotlib inline\n",
        "sns.countplot(data['polarity'])"
      ],
      "metadata": {
        "id": "Da5Dmn9Vdkks",
        "outputId": "ba678aa4-7e32-44c3-f03e-33cebe7c6451",
        "trusted": true,
        "execution": {
          "iopub.status.busy": "2025-03-22T17:41:48.198083Z",
          "iopub.execute_input": "2025-03-22T17:41:48.198373Z",
          "iopub.status.idle": "2025-03-22T17:41:48.334117Z",
          "shell.execute_reply.started": "2025-03-22T17:41:48.198348Z",
          "shell.execute_reply": "2025-03-22T17:41:48.333446Z"
        }
      },
      "outputs": [
        {
          "execution_count": 22,
          "output_type": "execute_result",
          "data": {
            "text/plain": "<AxesSubplot:xlabel='polarity', ylabel='count'>"
          },
          "metadata": {}
        },
        {
          "output_type": "display_data",
          "data": {
            "text/plain": "<Figure size 432x288 with 1 Axes>",
            "image/png": "[encoded data removed]"
          },
          "metadata": {
            "needs_background": "light"
          }
        }
      ],
      "execution_count": null
    },
    {
      "cell_type": "code",
      "source": [
        "# Removing the unnecessary columns.\n",
        "data.drop(['date','query','user','word count'], axis=1, inplace=True)"
      ],
      "metadata": {
        "id": "VE6nqmh5dkku",
        "trusted": true,
        "execution": {
          "iopub.status.busy": "2025-03-22T17:41:54.863977Z",
          "iopub.execute_input": "2025-03-22T17:41:54.864290Z",
          "iopub.status.idle": "2025-03-22T17:41:54.878111Z",
          "shell.execute_reply.started": "2025-03-22T17:41:54.864264Z",
          "shell.execute_reply": "2025-03-22T17:41:54.877317Z"
        }
      },
      "outputs": [],
      "execution_count": null
    },
    {
      "cell_type": "code",
      "source": [
        "data.drop('id', axis=1, inplace=True)"
      ],
      "metadata": {
        "trusted": true,
        "execution": {
          "iopub.status.busy": "2025-03-22T17:41:54.879614Z",
          "iopub.execute_input": "2025-03-22T17:41:54.879877Z",
          "iopub.status.idle": "2025-03-22T17:41:54.898836Z",
          "shell.execute_reply.started": "2025-03-22T17:41:54.879854Z",
          "shell.execute_reply": "2025-03-22T17:41:54.898030Z"
        },
        "id": "m3-kT64QNdnP"
      },
      "outputs": [],
      "execution_count": null
    },
    {
      "cell_type": "code",
      "source": [
        "data.head(10)"
      ],
      "metadata": {
        "id": "XNSb32D9dkku",
        "outputId": "dc5e8e0e-041d-4fdc-f94d-716c17fcaa52",
        "trusted": true,
        "execution": {
          "iopub.status.busy": "2025-03-22T17:41:56.391940Z",
          "iopub.execute_input": "2025-03-22T17:41:56.392295Z",
          "iopub.status.idle": "2025-03-22T17:41:56.400848Z",
          "shell.execute_reply.started": "2025-03-22T17:41:56.392265Z",
          "shell.execute_reply": "2025-03-22T17:41:56.400009Z"
        }
      },
      "outputs": [
        {
          "execution_count": 25,
          "output_type": "execute_result",
          "data": {
            "text/plain": "         polarity                                               text\n552255          0  someone named &quot;horny hottie&quot; is foll...\n712771          0  Is feeling better than before after this nice ...\n1259118         1                       See ya twitter! PEACE OUT!! \n630727          0  Doesn't it suck to realize that you are marrie...\n910289          1  my mom watched my new video and she actually L...\n225606          0  @Popcorn78 haha you should be lol it was fun B...\n1299533         1  @ButifulDeath Click this and feel it.  http://...\n143303          0  this wicked friendly marine with a sad story j...\n755258          0  @bls16  Deal support wants you to totally rebu...\n883020          1  @NoelAnn Hi Noel-Ann, If you use someone's use...",
            "text/html": "<div>\n<style scoped>\n    .dataframe tbody tr th:only-of-type {\n        vertical-align: middle;\n    }\n\n    .dataframe tbody tr th {\n        vertical-align: top;\n    }\n\n    .dataframe thead th {\n        text-align: right;\n    }\n</style>\n<table border=\"1\" class=\"dataframe\">\n  <thead>\n    <tr style=\"text-align: right;\">\n      <th></th>\n      <th>polarity</th>\n      <th>text</th>\n    </tr>\n  </thead>\n  <tbody>\n    <tr>\n      <th>552255</th>\n      <td>0</td>\n      <td>someone named &amp;quot;horny hottie&amp;quot; is foll...</td>\n    </tr>\n    <tr>\n      <th>712771</th>\n      <td>0</td>\n      <td>Is feeling better than before after this nice ...</td>\n    </tr>\n    <tr>\n      <th>1259118</th>\n      <td>1</td>\n      <td>See ya twitter! PEACE OUT!!</td>\n    </tr>\n    <tr>\n      <th>630727</th>\n      <td>0</td>\n      <td>Doesn't it suck to realize that you are marrie...</td>\n    </tr>\n    <tr>\n      <th>910289</th>\n      <td>1</td>\n      <td>my mom watched my new video and she actually L...</td>\n    </tr>\n    <tr>\n      <th>225606</th>\n      <td>0</td>\n      <td>@Popcorn78 haha you should be lol it was fun B...</td>\n    </tr>\n    <tr>\n      <th>1299533</th>\n      <td>1</td>\n      <td>@ButifulDeath Click this and feel it.  http://...</td>\n    </tr>\n    <tr>\n      <th>143303</th>\n      <td>0</td>\n      <td>this wicked friendly marine with a sad story j...</td>\n    </tr>\n    <tr>\n      <th>755258</th>\n      <td>0</td>\n      <td>@bls16  Deal support wants you to totally rebu...</td>\n    </tr>\n    <tr>\n      <th>883020</th>\n      <td>1</td>\n      <td>@NoelAnn Hi Noel-Ann, If you use someone's use...</td>\n    </tr>\n  </tbody>\n</table>\n</div>"
          },
          "metadata": {}
        }
      ],
      "execution_count": null
    },
    {
      "cell_type": "code",
      "source": [
        "#Checking if any null values present\n",
        "(data.isnull().sum() / len(data))*100"
      ],
      "metadata": {
        "id": "vI1xFqAZdkku",
        "outputId": "d09a39d1-b8be-4879-e7ec-6409800f80d8",
        "trusted": true,
        "execution": {
          "iopub.status.busy": "2025-03-22T17:41:56.980536Z",
          "iopub.execute_input": "2025-03-22T17:41:56.980839Z",
          "iopub.status.idle": "2025-03-22T17:41:57.021135Z",
          "shell.execute_reply.started": "2025-03-22T17:41:56.980811Z",
          "shell.execute_reply": "2025-03-22T17:41:57.020270Z"
        }
      },
      "outputs": [
        {
          "execution_count": 26,
          "output_type": "execute_result",
          "data": {
            "text/plain": "polarity    0.0\ntext        0.0\ndtype: float64"
          },
          "metadata": {}
        }
      ],
      "execution_count": null
    },
    {
      "cell_type": "code",
      "source": [
        "#convrting pandas object to a string type\n",
        "data['text'] = data['text'].astype('str')"
      ],
      "metadata": {
        "id": "ThC3QfwupuUs",
        "trusted": true,
        "execution": {
          "iopub.status.busy": "2025-03-22T17:41:57.182009Z",
          "iopub.execute_input": "2025-03-22T17:41:57.182365Z",
          "iopub.status.idle": "2025-03-22T17:41:57.259712Z",
          "shell.execute_reply.started": "2025-03-22T17:41:57.182336Z",
          "shell.execute_reply": "2025-03-22T17:41:57.259097Z"
        }
      },
      "outputs": [],
      "execution_count": null
    },
    {
      "cell_type": "code",
      "source": [
        "nltk.download('stopwords')\n",
        "stopword = set(stopwords.words('english'))\n",
        "print(stopword)"
      ],
      "metadata": {
        "id": "sUxte8kadkkt",
        "outputId": "20ab1d84-f414-4935-d556-1a100f9c91f3",
        "trusted": true,
        "execution": {
          "iopub.status.busy": "2025-03-22T17:42:00.125335Z",
          "iopub.execute_input": "2025-03-22T17:42:00.125649Z",
          "iopub.status.idle": "2025-03-22T17:42:00.206883Z",
          "shell.execute_reply.started": "2025-03-22T17:42:00.125620Z",
          "shell.execute_reply": "2025-03-22T17:42:00.205966Z"
        }
      },
      "outputs": [
        {
          "name": "stdout",
          "text": "[nltk_data] Downloading package stopwords to /usr/share/nltk_data...\n[nltk_data]   Unzipping corpora/stopwords.zip.\n{\"i'd\", 'hadn', \"you've\", 'who', \"couldn't\", \"we'll\", 'just', 'which', 'before', 'are', 'its', 'being', 'no', 'too', \"i'm\", 'has', 'don', \"wouldn't\", 'the', 'against', 'than', 'does', 'he', \"needn't\", \"weren't\", 'between', 'by', 'each', 'have', 'now', 'some', 'you', 'y', \"he'll\", 'wouldn', 'this', 'further', 'so', 'then', 'as', \"isn't\", \"you're\", \"hasn't\", 'needn', 'ma', 'o', 'them', 'she', \"they'd\", 'until', \"she'd\", 'isn', 'hers', 'here', 've', 'am', 'his', 'an', 'in', 'do', \"we'd\", 'all', 'or', 'same', \"hadn't\", 'be', \"i've\", 'whom', 'that', 'theirs', 'my', \"they'll\", 'we', 'it', \"won't\", 'with', 'mightn', 'to', 'doing', \"shan't\", 'over', 'me', 'any', \"they've\", 'these', 'once', \"we're\", \"she'll\", 'him', 'should', 'a', \"it'll\", \"i'll\", \"should've\", 'did', 'didn', 'if', 'himself', 'wasn', \"it's\", 'after', 'had', \"haven't\", 'how', 'such', \"he'd\", 'mustn', 'was', 'her', \"it'd\", 'few', 'most', 'ourselves', 'there', 'but', \"mightn't\", \"wasn't\", 'your', 'myself', \"you'll\", 'weren', 'why', 'only', 'not', \"that'll\", 'will', 'won', 'again', 'below', 'for', 'own', 'down', 'having', \"shouldn't\", 'is', 'haven', 'both', 'where', 'yourself', \"you'd\", 'when', 'what', 'under', 'ain', 'more', 'through', 'up', 'because', 'their', 'of', 'out', 'our', 'very', \"he's\", \"mustn't\", 'into', 'aren', \"she's\", 'from', 'i', 'and', 'during', 'about', 'couldn', 'itself', \"we've\", 'while', 'hasn', \"aren't\", 'can', \"didn't\", 'm', 'nor', 'off', 'ours', \"doesn't\", 'shan', 's', 're', 't', 'herself', 'themselves', 'they', 'doesn', 'on', 'were', 'yourselves', \"they're\", 'above', 'at', 'yours', 'shouldn', \"don't\", 'd', 'll', 'other', 'been', 'those'}\n",
          "output_type": "stream"
        }
      ],
      "execution_count": null
    },
    {
      "cell_type": "code",
      "source": [
        "nltk.download('punkt')\n",
        "nltk.download('wordnet')"
      ],
      "metadata": {
        "id": "eIbgnD6_p8Dr",
        "outputId": "91ef58df-bf04-48cf-e7d9-2d2d2f48fec6",
        "trusted": true,
        "execution": {
          "iopub.status.busy": "2025-03-22T17:42:00.300135Z",
          "iopub.execute_input": "2025-03-22T17:42:00.300449Z",
          "iopub.status.idle": "2025-03-22T17:42:00.754203Z",
          "shell.execute_reply.started": "2025-03-22T17:42:00.300417Z",
          "shell.execute_reply": "2025-03-22T17:42:00.753502Z"
        }
      },
      "outputs": [
        {
          "name": "stdout",
          "text": "[nltk_data] Downloading package punkt to /usr/share/nltk_data...\n[nltk_data]   Unzipping tokenizers/punkt.zip.\n[nltk_data] Downloading package wordnet to /usr/share/nltk_data...\n[nltk_data]   Package wordnet is already up-to-date!\n",
          "output_type": "stream"
        },
        {
          "execution_count": 29,
          "output_type": "execute_result",
          "data": {
            "text/plain": "True"
          },
          "metadata": {}
        }
      ],
      "execution_count": null
    },
    {
      "cell_type": "code",
      "source": [
        "urlPattern = r\"((http://)[^ ]*|(https://)[^ ]*|( www\\.)[^ ]*)\"\n",
        "userPattern = '@[^\\s]+'\n",
        "def process_tweets(tweet):\n",
        "  # Lower Casing\n",
        "    tweet = tweet.lower()\n",
        "    tweet=tweet[1:]\n",
        "    # Removing all URls\n",
        "    tweet = re.sub(urlPattern,'',tweet)\n",
        "    # Removing all @username.\n",
        "    tweet = re.sub(userPattern,'', tweet)\n",
        "    #Remove punctuations\n",
        "    tweet = tweet.translate(str.maketrans(\"\",\"\",string.punctuation))\n",
        "    #tokenizing words\n",
        "    tokens = word_tokenize(tweet)\n",
        "    #Removing Stop Words\n",
        "    final_tokens = [w for w in tokens if w not in stopword]\n",
        "    #reducing a word to its word stem\n",
        "    wordLemm = WordNetLemmatizer()\n",
        "    finalwords=[]\n",
        "    for w in final_tokens:\n",
        "      if len(w)>1:\n",
        "        word = wordLemm.lemmatize(w)\n",
        "        finalwords.append(word)\n",
        "    return ' '.join(finalwords)"
      ],
      "metadata": {
        "id": "1qK7KlBpdkkt",
        "trusted": true,
        "execution": {
          "iopub.status.busy": "2025-03-22T17:42:07.827552Z",
          "iopub.execute_input": "2025-03-22T17:42:07.827874Z",
          "iopub.status.idle": "2025-03-22T17:42:07.833792Z",
          "shell.execute_reply.started": "2025-03-22T17:42:07.827843Z",
          "shell.execute_reply": "2025-03-22T17:42:07.833073Z"
        }
      },
      "outputs": [],
      "execution_count": null
    },
    {
      "cell_type": "code",
      "source": [
        "data['processed_tweets'] = data['text'].apply(lambda x: process_tweets(x))\n",
        "print('Text Preprocessing complete.')"
      ],
      "metadata": {
        "id": "We9fsGPzdkku",
        "outputId": "3ca97e3b-6b03-4df0-918c-2183d87c5599",
        "trusted": true,
        "execution": {
          "iopub.status.busy": "2025-03-22T17:42:09.438141Z",
          "iopub.execute_input": "2025-03-22T17:42:09.438448Z",
          "iopub.status.idle": "2025-03-22T17:42:39.169694Z",
          "shell.execute_reply.started": "2025-03-22T17:42:09.438421Z",
          "shell.execute_reply": "2025-03-22T17:42:39.168883Z"
        }
      },
      "outputs": [
        {
          "name": "stdout",
          "text": "Text Preprocessing complete.\n",
          "output_type": "stream"
        }
      ],
      "execution_count": null
    },
    {
      "cell_type": "markdown",
      "source": [
        "## Vectorization and Splitting the data <a id=\"6\"></a>\n",
        "Storing input variable-processes_tweets to X and output variable-polarity to y"
      ],
      "metadata": {
        "id": "YqARyAu8Ad1a"
      }
    },
    {
      "cell_type": "code",
      "source": [
        "X = data['processed_tweets'].values\n",
        "y = data['polarity'].values\n"
      ],
      "metadata": {
        "id": "F_H_S5Xgdkkv",
        "trusted": true,
        "execution": {
          "iopub.status.busy": "2025-03-22T17:43:48.428131Z",
          "iopub.execute_input": "2025-03-22T17:43:48.428426Z",
          "iopub.status.idle": "2025-03-22T17:43:48.432800Z",
          "shell.execute_reply.started": "2025-03-22T17:43:48.428397Z",
          "shell.execute_reply": "2025-03-22T17:43:48.431964Z"
        }
      },
      "outputs": [],
      "execution_count": null
    },
    {
      "cell_type": "code",
      "source": [
        "print(X.shape)\n",
        "print(y.shape)"
      ],
      "metadata": {
        "id": "V7jVqik-dkkv",
        "outputId": "44777099-9068-436e-968d-7bfcceb9d63e",
        "trusted": true,
        "execution": {
          "iopub.status.busy": "2025-03-22T17:43:48.433936Z",
          "iopub.execute_input": "2025-03-22T17:43:48.434229Z",
          "iopub.status.idle": "2025-03-22T17:43:48.446052Z",
          "shell.execute_reply.started": "2025-03-22T17:43:48.434202Z",
          "shell.execute_reply": "2025-03-22T17:43:48.445133Z"
        }
      },
      "outputs": [
        {
          "name": "stdout",
          "text": "(200000,)\n(200000,)\n",
          "output_type": "stream"
        }
      ],
      "execution_count": null
    },
    {
      "cell_type": "code",
      "source": [
        "#Convert a collection of raw documents to a matrix of TF-IDF features.\n",
        "vector = TfidfVectorizer(sublinear_tf=True)\n",
        "X = vector.fit_transform(X)\n",
        "print(f'Vector fitted.')\n",
        "print('No. of feature_words: ', len(vector.get_feature_names()))"
      ],
      "metadata": {
        "id": "jFJC-pg8dkkw",
        "outputId": "95bdeeb6-7ab5-4bd1-a960-40a98ac10a05",
        "trusted": true,
        "execution": {
          "iopub.status.busy": "2025-03-22T17:44:51.559859Z",
          "iopub.execute_input": "2025-03-22T17:44:51.560182Z",
          "iopub.status.idle": "2025-03-22T17:44:53.789955Z",
          "shell.execute_reply.started": "2025-03-22T17:44:51.560153Z",
          "shell.execute_reply": "2025-03-22T17:44:53.789244Z"
        }
      },
      "outputs": [
        {
          "name": "stdout",
          "text": "Vector fitted.\nNo. of feature_words:  170417\n",
          "output_type": "stream"
        }
      ],
      "execution_count": null
    },
    {
      "cell_type": "code",
      "source": [
        "print(X.shape)\n",
        "print(y.shape)"
      ],
      "metadata": {
        "id": "K7OeXCrQdkkw",
        "outputId": "5882c3f6-9c74-4ddb-95d0-22a6a2125f4b",
        "trusted": true,
        "execution": {
          "iopub.status.busy": "2025-03-22T17:44:55.248183Z",
          "iopub.execute_input": "2025-03-22T17:44:55.248467Z",
          "iopub.status.idle": "2025-03-22T17:44:55.252963Z",
          "shell.execute_reply.started": "2025-03-22T17:44:55.248444Z",
          "shell.execute_reply": "2025-03-22T17:44:55.252063Z"
        }
      },
      "outputs": [
        {
          "name": "stdout",
          "text": "(200000, 170417)\n(200000,)\n",
          "output_type": "stream"
        }
      ],
      "execution_count": null
    },
    {
      "cell_type": "markdown",
      "source": [
        "# RNN <a id=\"12\"></a>"
      ],
      "metadata": {
        "id": "d07tHN83wOUz"
      }
    },
    {
      "cell_type": "code",
      "source": [
        "from keras.models import Sequential\n",
        "from keras.layers import Dense, Embedding, LSTM, Dropout\n",
        "from sklearn.feature_extraction.text import CountVectorizer\n",
        "from keras.preprocessing.text import Tokenizer\n",
        "from keras.preprocessing.sequence import pad_sequences\n",
        "from keras.utils.np_utils import to_categorical\n",
        "import re"
      ],
      "metadata": {
        "id": "z-O59gYEyV7B",
        "trusted": true,
        "execution": {
          "iopub.status.busy": "2025-03-22T17:45:28.044226Z",
          "iopub.execute_input": "2025-03-22T17:45:28.044562Z",
          "iopub.status.idle": "2025-03-22T17:45:28.090401Z",
          "shell.execute_reply.started": "2025-03-22T17:45:28.044531Z",
          "shell.execute_reply": "2025-03-22T17:45:28.089503Z"
        }
      },
      "outputs": [],
      "execution_count": null
    },
    {
      "cell_type": "code",
      "source": [
        "import keras\n",
        "keras.__version__"
      ],
      "metadata": {
        "id": "_HpLbl0z-kZg",
        "outputId": "7e4f396f-71b0-4af5-c2d5-fe4efa6e1d33",
        "trusted": true,
        "execution": {
          "iopub.status.busy": "2025-03-22T17:45:29.017606Z",
          "iopub.execute_input": "2025-03-22T17:45:29.017931Z",
          "iopub.status.idle": "2025-03-22T17:45:29.022763Z",
          "shell.execute_reply.started": "2025-03-22T17:45:29.017899Z",
          "shell.execute_reply": "2025-03-22T17:45:29.021820Z"
        }
      },
      "outputs": [
        {
          "execution_count": 41,
          "output_type": "execute_result",
          "data": {
            "text/plain": "'2.4.3'"
          },
          "metadata": {}
        }
      ],
      "execution_count": null
    },
    {
      "cell_type": "code",
      "source": [
        "from keras.preprocessing.text import Tokenizer\n",
        "from keras.preprocessing.sequence import pad_sequences\n",
        "from keras import regularizers\n",
        "\n",
        "max_words = 5000\n",
        "max_len = 200\n",
        "\n",
        "tokenizer = Tokenizer(num_words=max_words)\n",
        "tokenizer.fit_on_texts(data.processed_tweets)\n",
        "sequences = tokenizer.texts_to_sequences(data.processed_tweets)\n",
        "tweets = pad_sequences(sequences, maxlen=max_len)\n",
        "print(tweets)"
      ],
      "metadata": {
        "id": "68irxgj85Duv",
        "outputId": "9fbd6393-c152-45f0-b4b6-63014e90ab70",
        "trusted": true,
        "execution": {
          "iopub.status.busy": "2025-03-22T17:45:30.993610Z",
          "iopub.execute_input": "2025-03-22T17:45:30.993913Z",
          "iopub.status.idle": "2025-03-22T17:45:36.517889Z",
          "shell.execute_reply.started": "2025-03-22T17:45:30.993883Z",
          "shell.execute_reply": "2025-03-22T17:45:36.516962Z"
        }
      },
      "outputs": [
        {
          "name": "stdout",
          "text": "[[   0    0    0 ... 1446 2288  318]\n [   0    0    0 ... 1122  494    3]\n [   0    0    0 ...  196   41  971]\n ...\n [   0    0    0 ...    0  325    9]\n [   0    0    0 ... 1144   61 1748]\n [   0    0    0 ...   22  457   41]]\n",
          "output_type": "stream"
        }
      ],
      "execution_count": null
    },
    {
      "cell_type": "code",
      "source": [
        "X_train, X_test, y_train, y_test = train_test_split(tweets, data.polarity.values, test_size=0.2, random_state=101)"
      ],
      "metadata": {
        "id": "GVXtFMC453Hi",
        "trusted": true,
        "execution": {
          "iopub.status.busy": "2025-03-22T17:45:36.519597Z",
          "iopub.execute_input": "2025-03-22T17:45:36.519930Z",
          "iopub.status.idle": "2025-03-22T17:45:36.597013Z",
          "shell.execute_reply.started": "2025-03-22T17:45:36.519895Z",
          "shell.execute_reply": "2025-03-22T17:45:36.596389Z"
        }
      },
      "outputs": [],
      "execution_count": null
    },
    {
      "cell_type": "code",
      "source": [
        "print(\"X_train\", X_train.shape)\n",
        "print(\"y_train\", y_train.shape)\n",
        "print()\n",
        "print(\"X_test\", X_test.shape)\n",
        "print(\"y_test\", y_test.shape)"
      ],
      "metadata": {
        "trusted": true,
        "execution": {
          "iopub.status.busy": "2025-03-22T17:45:58.324270Z",
          "iopub.execute_input": "2025-03-22T17:45:58.324560Z",
          "iopub.status.idle": "2025-03-22T17:45:58.329617Z",
          "shell.execute_reply.started": "2025-03-22T17:45:58.324535Z",
          "shell.execute_reply": "2025-03-22T17:45:58.328609Z"
        },
        "id": "NVPyw2T3NdnS",
        "outputId": "1b7ed06d-c4c4-4f1d-8007-b8b835a39edf"
      },
      "outputs": [
        {
          "name": "stdout",
          "text": "X_train (160000, 200)\ny_train (160000,)\n\nX_test (40000, 200)\ny_test (40000,)\n",
          "output_type": "stream"
        }
      ],
      "execution_count": null
    },
    {
      "cell_type": "code",
      "source": [
        "from keras.models import Sequential\n",
        "from keras import layers\n",
        "from keras.callbacks import ModelCheckpoint, EarlyStopping\n",
        "\n",
        "model2 = Sequential()\n",
        "model2.add(layers.Embedding(max_words, 64))\n",
        "model2.add(layers.LSTM(32, return_sequences=True, activation='tanh', recurrent_activation='sigmoid'))\n",
        "model2.add(layers.LSTM(16, dropout=0.3))\n",
        "model2.add(layers.Dense(8, activation='relu'))\n",
        "model2.add(layers.Dense(1, activation='sigmoid'))\n",
        "\n",
        "model2.compile(optimizer='RMSprop', loss='binary_crossentropy', metrics=['accuracy'])\n",
        "\n",
        "checkpoint2 = ModelCheckpoint(\"rnn_model.hdf55\", monitor='val_accuracy', verbose=1, save_best_only=True)\n",
        "early_stopping = EarlyStopping(monitor='val_loss', patience=3, restore_best_weights=True)\n",
        "\n",
        "history = model2.fit(X_train, y_train, epochs=20, batch_size=64,\n",
        "                     validation_data=(X_test, y_test),\n",
        "                     callbacks=[checkpoint2, early_stopping])\n"
      ],
      "metadata": {
        "id": "eGpuqkUj5Dxv",
        "outputId": "07dc0998-3e41-412a-a49b-e0ec9fcfd3ef",
        "trusted": true,
        "execution": {
          "iopub.status.busy": "2025-03-22T18:41:15.726448Z",
          "iopub.execute_input": "2025-03-22T18:41:15.726777Z",
          "iopub.status.idle": "2025-03-22T18:48:08.645678Z",
          "shell.execute_reply.started": "2025-03-22T18:41:15.726745Z",
          "shell.execute_reply": "2025-03-22T18:48:08.644932Z"
        }
      },
      "outputs": [
        {
          "name": "stdout",
          "text": "Epoch 1/20\n2500/2500 [==============================] - 50s 19ms/step - loss: 0.5508 - accuracy: 0.7124 - val_loss: 0.4871 - val_accuracy: 0.7627\n\nEpoch 00001: val_accuracy improved from -inf to 0.76267, saving model to rnn_model.hdf55\nEpoch 2/20\n2500/2500 [==============================] - 46s 18ms/step - loss: 0.4737 - accuracy: 0.7726 - val_loss: 0.4791 - val_accuracy: 0.7702\n\nEpoch 00002: val_accuracy improved from 0.76267 to 0.77017, saving model to rnn_model.hdf55\nEpoch 3/20\n2500/2500 [==============================] - 46s 18ms/step - loss: 0.4650 - accuracy: 0.7774 - val_loss: 0.4791 - val_accuracy: 0.7711\n\nEpoch 00003: val_accuracy improved from 0.77017 to 0.77115, saving model to rnn_model.hdf55\nEpoch 4/20\n2500/2500 [==============================] - 46s 18ms/step - loss: 0.4555 - accuracy: 0.7842 - val_loss: 0.4869 - val_accuracy: 0.7682\n\nEpoch 00004: val_accuracy did not improve from 0.77115\nEpoch 5/20\n2500/2500 [==============================] - 47s 19ms/step - loss: 0.4469 - accuracy: 0.7897 - val_loss: 0.4757 - val_accuracy: 0.7726\n\nEpoch 00005: val_accuracy improved from 0.77115 to 0.77258, saving model to rnn_model.hdf55\nEpoch 6/20\n2500/2500 [==============================] - 48s 19ms/step - loss: 0.4389 - accuracy: 0.7956 - val_loss: 0.4772 - val_accuracy: 0.7743\n\nEpoch 00006: val_accuracy improved from 0.77258 to 0.77428, saving model to rnn_model.hdf55\nEpoch 7/20\n2500/2500 [==============================] - 48s 19ms/step - loss: 0.4309 - accuracy: 0.8005 - val_loss: 0.4784 - val_accuracy: 0.7706\n\nEpoch 00007: val_accuracy did not improve from 0.77428\nEpoch 8/20\n2500/2500 [==============================] - 48s 19ms/step - loss: 0.4276 - accuracy: 0.8021 - val_loss: 0.4783 - val_accuracy: 0.7731\n\nEpoch 00008: val_accuracy did not improve from 0.77428\n",
          "output_type": "stream"
        }
      ],
      "execution_count": null
    },
    {
      "cell_type": "markdown",
      "source": [
        "# Plotting <a id=\"13\"></a>"
      ],
      "metadata": {
        "id": "ufOAJBEcNdnS"
      }
    },
    {
      "cell_type": "code",
      "source": [
        "import matplotlib.pyplot as plt\n",
        "from keras.models import Sequential\n",
        "from keras import layers\n",
        "from keras.callbacks import ModelCheckpoint\n",
        "\n",
        "# 📊 Plotting training & validation accuracy\n",
        "plt.figure(figsize=(10, 5))\n",
        "plt.plot(history.history['accuracy'], label='Training Accuracy')\n",
        "plt.plot(history.history['val_accuracy'], label='Validation Accuracy')\n",
        "plt.title('Training and Validation Accuracy')\n",
        "plt.xlabel('Epochs')\n",
        "plt.ylabel('Accuracy')\n",
        "plt.legend()\n",
        "plt.grid(True)\n",
        "plt.show()\n",
        "\n",
        "# 📉 Plotting training & validation loss\n",
        "plt.figure(figsize=(10, 5))\n",
        "plt.plot(history.history['loss'], label='Training Loss')\n",
        "plt.plot(history.history['val_loss'], label='Validation Loss')\n",
        "plt.title('Training and Validation Loss')\n",
        "plt.xlabel('Epochs')\n",
        "plt.ylabel('Loss')\n",
        "plt.legend()\n",
        "plt.grid(True)\n",
        "plt.show()\n"
      ],
      "metadata": {
        "trusted": true,
        "execution": {
          "iopub.status.busy": "2025-03-22T18:50:43.147978Z",
          "iopub.execute_input": "2025-03-22T18:50:43.148334Z",
          "iopub.status.idle": "2025-03-22T18:50:43.446656Z",
          "shell.execute_reply.started": "2025-03-22T18:50:43.148301Z",
          "shell.execute_reply": "2025-03-22T18:50:43.445938Z"
        },
        "id": "3g8O39szNdnS",
        "outputId": "82887269-cbdb-4d83-839b-0329d6500b67"
      },
      "outputs": [
        {
          "output_type": "display_data",
          "data": {
            "text/plain": "<Figure size 720x360 with 1 Axes>",
            "image/png": "[encoded data removed]"
          },
          "metadata": {
            "needs_background": "light"
          }
        },
        {
          "output_type": "display_data",
          "data": {
            "text/plain": "<Figure size 720x360 with 1 Axes>",
            "image/png": "[encoded data removed]"
          },
          "metadata": {
            "needs_background": "light"
          }
        }
      ],
      "execution_count": null
    },
    {
      "cell_type": "markdown",
      "source": [
        "# Model Saving, Loading and Prediction <a id=\"13\"></a>"
      ],
      "metadata": {
        "id": "zqVp3sH3NdnT"
      }
    },
    {
      "cell_type": "code",
      "source": [
        "sequence = tokenizer.texts_to_sequences(['this data science article is the worst ever'])\n",
        "test = pad_sequences(sequence, maxlen=max_len)\n",
        "pred = model2.predict(test)\n",
        "if pred > 0.5:\n",
        "  print('Positive')\n",
        "else:\n",
        "  print('Negative')\n",
        "print(pred)"
      ],
      "metadata": {
        "id": "NjU0Kf7idfJf",
        "outputId": "ed0c9408-007f-4473-e6a3-fe70647507e8",
        "trusted": true,
        "execution": {
          "iopub.status.busy": "2025-03-22T18:50:56.697508Z",
          "iopub.execute_input": "2025-03-22T18:50:56.697844Z",
          "iopub.status.idle": "2025-03-22T18:50:57.297714Z",
          "shell.execute_reply.started": "2025-03-22T18:50:56.697812Z",
          "shell.execute_reply": "2025-03-22T18:50:57.296788Z"
        }
      },
      "outputs": [
        {
          "name": "stdout",
          "text": "Negative\n[[0.22831279]]\n",
          "output_type": "stream"
        }
      ],
      "execution_count": null
    },
    {
      "cell_type": "code",
      "source": [
        "loaded_model = keras.models.load_model('rnn_model.hdf5')\n",
        "sequence = tokenizer.texts_to_sequences(['this data science article is the best ever'])\n",
        "test = pad_sequences(sequence, maxlen=max_len)\n",
        "pred = loaded_model.predict(test)\n",
        "if pred > 0.5:\n",
        "  print('Positive')\n",
        "else:\n",
        "  print('Negative')"
      ],
      "metadata": {
        "id": "HJXJWC53PGEp",
        "outputId": "539028f1-fcf9-443e-a8b3-be82b43a78ef",
        "trusted": true,
        "execution": {
          "iopub.status.busy": "2025-03-22T18:51:04.639164Z",
          "iopub.execute_input": "2025-03-22T18:51:04.639459Z",
          "iopub.status.idle": "2025-03-22T18:51:05.235184Z",
          "shell.execute_reply.started": "2025-03-22T18:51:04.639435Z",
          "shell.execute_reply": "2025-03-22T18:51:05.234461Z"
        }
      },
      "outputs": [
        {
          "name": "stdout",
          "text": "Positive\n",
          "output_type": "stream"
        }
      ],
      "execution_count": null
    },
    {
      "cell_type": "code",
      "source": [
        "sequence2 = tokenizer.texts_to_sequences(['I had a bad day at work.'])\n",
        "test2 = pad_sequences(sequence2, maxlen=max_len)\n",
        "pred2 = loaded_model.predict(test2)\n",
        "if pred2 > 0.5:\n",
        "  print('Positive')\n",
        "else:\n",
        "  print('Negative')"
      ],
      "metadata": {
        "id": "_Bw4rZQjTWEw",
        "outputId": "93705aa3-e7bc-49a3-d356-84bdecaeec84",
        "trusted": true,
        "execution": {
          "iopub.status.busy": "2025-03-22T18:51:08.203244Z",
          "iopub.execute_input": "2025-03-22T18:51:08.203555Z",
          "iopub.status.idle": "2025-03-22T18:51:08.246352Z",
          "shell.execute_reply.started": "2025-03-22T18:51:08.203526Z",
          "shell.execute_reply": "2025-03-22T18:51:08.245484Z"
        }
      },
      "outputs": [
        {
          "name": "stdout",
          "text": "Negative\n",
          "output_type": "stream"
        }
      ],
      "execution_count": null
    }
  ]
}